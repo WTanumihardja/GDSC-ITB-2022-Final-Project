{
  "nbformat": 4,
  "nbformat_minor": 0,
  "metadata": {
    "colab": {
      "provenance": [],
      "toc_visible": true,
      "authorship_tag": "ABX9TyOBIFSw1TXcX4q4HmRFoKnJ",
      "include_colab_link": true
    },
    "kernelspec": {
      "name": "python3",
      "display_name": "Python 3"
    },
    "language_info": {
      "name": "python"
    }
  },
  "cells": [
    {
      "cell_type": "markdown",
      "metadata": {
        "id": "view-in-github",
        "colab_type": "text"
      },
      "source": [
        "<a href=\"https://colab.research.google.com/github/WTanumihardja/Time-Series-Playground/blob/main/GDSC_ITB_2022_220010003_Daily_Min_Temperature_Prediction.ipynb\" target=\"_parent\"><img src=\"https://colab.research.google.com/assets/colab-badge.svg\" alt=\"Open In Colab\"/></a>"
      ]
    },
    {
      "cell_type": "markdown",
      "source": [
        "# **GDSC ITB 2022/2023 - Last Project Submission**\n",
        "---\n",
        "**Author's Details**\n",
        "*   Name : Wilbert Josef Tanumihardja\n",
        "*   Member ID : 220010003\n",
        "*   Path : Machine Learning/Data Science\n"
      ],
      "metadata": {
        "id": "SfOpS63SaCnR"
      }
    },
    {
      "cell_type": "markdown",
      "source": [
        "## **Acknowledgement**\n",
        "\n",
        "*I would like to express my deepest gratitude to GDSC ITB Lead 2022/2023 for giving me a precious opportunity to learn, grow, and connect within this great community. Also, I would like to express a lot of thanks to Core Team Members which have been worked hard to giving their best for the success of GDSC ITB.*"
      ],
      "metadata": {
        "id": "TkuMybUraxzx"
      }
    },
    {
      "cell_type": "markdown",
      "source": [
        "## **Project Details**\n",
        "In this project, I gonna build a deep learning model for predicting univariate time-series data which in this project I'm using [Daily Min Temperature Dataset](https://raw.githubusercontent.com/jbrownlee/Datasets/master/daily-min-temperatures.csv) from [jbrownlee's GitHub Repository](https://github.com/jbrownlee/Datasets). The dataset contains two columns. Those are Date (which spans from 1 January 1981 to 31 December 1990) and Temperature on that date.\n",
        "\n",
        "With limited dataset, I'm using windowing techinque in this project to generate more data. I also splitting data for training and validation using 2500 as split point so the training data will have exactly 2500 records and the validation data will have 1500 records.\n",
        "\n",
        "For the neural network itself, I'm combining 1-D Convolutional, LSTM, and also fully connected layer. With this architecture, the training process can be much faster and can give quite good accuracy. The metric I use in this project is Mean Absolute Error (MAE) because it is straightforward and much more resilient to outliers.\n",
        "\n",
        "I compiled this model with Adam as optimizer, which can converge faster and Huber loss function as loss function, which less sensitive to outliers.\n",
        "\n",
        "Finally, I train this model with 20 epochs which resulted accuracy around 80% with loss less than 0.6%."
      ],
      "metadata": {
        "id": "9xFzFCz-pluB"
      }
    },
    {
      "cell_type": "markdown",
      "source": [
        "### **Import Libraries**"
      ],
      "metadata": {
        "id": "eV2fWUhOZeLa"
      }
    },
    {
      "cell_type": "code",
      "execution_count": 12,
      "metadata": {
        "id": "An9aw81aUQo_"
      },
      "outputs": [],
      "source": [
        "import tensorflow as tf\n",
        "import numpy as np\n",
        "import matplotlib.pyplot as plt\n",
        "import csv\n",
        "import urllib"
      ]
    },
    {
      "cell_type": "markdown",
      "source": [
        "### **Define Windowing Function**"
      ],
      "metadata": {
        "id": "Q1gny_73ZiaH"
      }
    },
    {
      "cell_type": "code",
      "source": [
        "def windowed_dataset(series, window_size, batch_size, shuffle_buffer):\n",
        "    series = tf.expand_dims(series, axis=-1)\n",
        "    ds = tf.data.Dataset.from_tensor_slices(series)\n",
        "    ds = ds.window(window_size + 1, shift=1, drop_remainder=True)\n",
        "    ds = ds.flat_map(lambda w: w.batch(window_size + 1))\n",
        "    ds = ds.shuffle(shuffle_buffer)\n",
        "    ds = ds.map(lambda w: (w[:-1], w[1:]))\n",
        "    return ds.batch(batch_size).prefetch(1)"
      ],
      "metadata": {
        "id": "Mwwyof3eUnA8"
      },
      "execution_count": 2,
      "outputs": []
    },
    {
      "cell_type": "markdown",
      "source": [
        "### **Download Dataset**"
      ],
      "metadata": {
        "id": "U30bFeHqZqzF"
      }
    },
    {
      "cell_type": "code",
      "source": [
        "data_url = 'https://raw.githubusercontent.com/jbrownlee/Datasets/master/daily-min-temperatures.csv'\n",
        "urllib.request.urlretrieve(data_url, 'daily-min-temperatures.csv')\n",
        "\n",
        "time_step = []\n",
        "temps = []\n",
        "\n",
        "with open('daily-min-temperatures.csv') as csvfile:\n",
        "    reader = csv.reader(csvfile, delimiter=',')\n",
        "    next(reader)\n",
        "    step = 0\n",
        "    for row in reader:\n",
        "        temps.append(float(row[1]))\n",
        "        time_step.append(step)\n",
        "        step=step + 1\n",
        "\n",
        "series= np.array(temps)"
      ],
      "metadata": {
        "id": "wz-zG1s0UqRR"
      },
      "execution_count": 3,
      "outputs": []
    },
    {
      "cell_type": "markdown",
      "source": [
        "### **Normalize Data**"
      ],
      "metadata": {
        "id": "0sKeqBFFZ0NA"
      }
    },
    {
      "cell_type": "code",
      "source": [
        "min=np.min(series)\n",
        "max=np.max(series)\n",
        "series -= min\n",
        "series /= max\n",
        "time=np.array(time_step)"
      ],
      "metadata": {
        "id": "w0OZl6kwUud6"
      },
      "execution_count": 4,
      "outputs": []
    },
    {
      "cell_type": "code",
      "source": [
        "print(time)"
      ],
      "metadata": {
        "colab": {
          "base_uri": "https://localhost:8080/"
        },
        "id": "zhJ0s9KssRco",
        "outputId": "453e7829-5bae-4621-95d4-1d76e460650b"
      },
      "execution_count": 21,
      "outputs": [
        {
          "output_type": "stream",
          "name": "stdout",
          "text": [
            "[   0    1    2 ... 3647 3648 3649]\n"
          ]
        }
      ]
    },
    {
      "cell_type": "markdown",
      "source": [
        "### **Split Data**"
      ],
      "metadata": {
        "id": "S2tubhrjZ4AG"
      }
    },
    {
      "cell_type": "code",
      "source": [
        "split_time=2500\n",
        "\n",
        "time_train = time[:split_time]\n",
        "x_train = series[:split_time]\n",
        "time_valid = time[split_time:]\n",
        "x_valid = series[split_time:]"
      ],
      "metadata": {
        "id": "bps9N1OXU6K8"
      },
      "execution_count": 5,
      "outputs": []
    },
    {
      "cell_type": "code",
      "source": [
        "print(len(time_train), len(time_valid))"
      ],
      "metadata": {
        "colab": {
          "base_uri": "https://localhost:8080/"
        },
        "id": "mliVlJCqsWCo",
        "outputId": "99828423-1ba9-4f78-a65c-d942ce6f09da"
      },
      "execution_count": 23,
      "outputs": [
        {
          "output_type": "stream",
          "name": "stdout",
          "text": [
            "2500 1150\n"
          ]
        }
      ]
    },
    {
      "cell_type": "code",
      "source": [
        "window_size=64\n",
        "batch_size=256\n",
        "shuffle_buffer_size=1000\n",
        "\n",
        "train_set=windowed_dataset(\n",
        "    x_train, window_size, batch_size, shuffle_buffer_size)\n",
        "\n",
        "valid_set=windowed_dataset(\n",
        "    x_valid, window_size, batch_size, shuffle_buffer_size\n",
        ")"
      ],
      "metadata": {
        "id": "n9uZG72oUw6Y"
      },
      "execution_count": 6,
      "outputs": []
    },
    {
      "cell_type": "code",
      "source": [
        "print(train_set)\n",
        "print(x_train.shape)"
      ],
      "metadata": {
        "colab": {
          "base_uri": "https://localhost:8080/"
        },
        "id": "gyBmtt2IU4W8",
        "outputId": "b669969d-2772-4a43-be77-bba67e1b9d14"
      },
      "execution_count": 7,
      "outputs": [
        {
          "output_type": "stream",
          "name": "stdout",
          "text": [
            "<_PrefetchDataset element_spec=(TensorSpec(shape=(None, None, 1), dtype=tf.float64, name=None), TensorSpec(shape=(None, None, 1), dtype=tf.float64, name=None))>\n",
            "(2500,)\n"
          ]
        }
      ]
    },
    {
      "cell_type": "markdown",
      "source": [
        "### **Build Model**"
      ],
      "metadata": {
        "id": "KM0kb20QZKmD"
      }
    },
    {
      "cell_type": "code",
      "source": [
        "model=tf.keras.models.Sequential([\n",
        "      tf.keras.layers.Conv1D(\n",
        "          filters=64,\n",
        "          kernel_size=3,\n",
        "          strides=1,\n",
        "          padding='causal',\n",
        "          activation='relu',\n",
        "          input_shape=[None, 1]\n",
        "      ),\n",
        "      tf.keras.layers.LSTM(64, return_sequences=True),\n",
        "      tf.keras.layers.LSTM(64),\n",
        "      tf.keras.layers.Dense(30, activation='relu'),\n",
        "      tf.keras.layers.Dense(10, activation='relu'),\n",
        "      tf.keras.layers.Dense(1),\n",
        "  ])"
      ],
      "metadata": {
        "id": "ylTM_YauVAnm"
      },
      "execution_count": 8,
      "outputs": []
    },
    {
      "cell_type": "markdown",
      "source": [
        "### **Compiling Model**"
      ],
      "metadata": {
        "id": "4F63m81JZQFR"
      }
    },
    {
      "cell_type": "code",
      "source": [
        "model.compile(\n",
        "      optimizer=tf.keras.optimizers.Adam(),\n",
        "      loss=tf.keras.losses.Huber(),\n",
        "      metrics=['mae']\n",
        "  )"
      ],
      "metadata": {
        "id": "JiRWU9S4VFno"
      },
      "execution_count": 9,
      "outputs": []
    },
    {
      "cell_type": "markdown",
      "source": [
        "### **Train Model**"
      ],
      "metadata": {
        "id": "VPASgvlAZTB0"
      }
    },
    {
      "cell_type": "code",
      "source": [
        "history = model.fit(\n",
        "      train_set,\n",
        "      epochs=20,\n",
        "      verbose=2,\n",
        "      validation_data=valid_set\n",
        "  )"
      ],
      "metadata": {
        "colab": {
          "base_uri": "https://localhost:8080/"
        },
        "id": "KyyQkKwSVI3P",
        "outputId": "ac29cb1c-a834-4af1-d1f9-01e50dc97578"
      },
      "execution_count": 13,
      "outputs": [
        {
          "output_type": "stream",
          "name": "stdout",
          "text": [
            "Epoch 1/20\n",
            "10/10 - 11s - loss: 0.0059 - mae: 0.0855 - val_loss: 0.0052 - val_mae: 0.0800 - 11s/epoch - 1s/step\n",
            "Epoch 2/20\n",
            "10/10 - 5s - loss: 0.0059 - mae: 0.0856 - val_loss: 0.0052 - val_mae: 0.0801 - 5s/epoch - 471ms/step\n",
            "Epoch 3/20\n",
            "10/10 - 6s - loss: 0.0059 - mae: 0.0856 - val_loss: 0.0052 - val_mae: 0.0801 - 6s/epoch - 599ms/step\n",
            "Epoch 4/20\n",
            "10/10 - 5s - loss: 0.0059 - mae: 0.0855 - val_loss: 0.0052 - val_mae: 0.0799 - 5s/epoch - 504ms/step\n",
            "Epoch 5/20\n",
            "10/10 - 5s - loss: 0.0059 - mae: 0.0855 - val_loss: 0.0052 - val_mae: 0.0799 - 5s/epoch - 502ms/step\n",
            "Epoch 6/20\n",
            "10/10 - 5s - loss: 0.0059 - mae: 0.0855 - val_loss: 0.0052 - val_mae: 0.0800 - 5s/epoch - 463ms/step\n",
            "Epoch 7/20\n",
            "10/10 - 6s - loss: 0.0059 - mae: 0.0855 - val_loss: 0.0052 - val_mae: 0.0799 - 6s/epoch - 594ms/step\n",
            "Epoch 8/20\n",
            "10/10 - 5s - loss: 0.0059 - mae: 0.0855 - val_loss: 0.0052 - val_mae: 0.0800 - 5s/epoch - 464ms/step\n",
            "Epoch 9/20\n",
            "10/10 - 5s - loss: 0.0059 - mae: 0.0855 - val_loss: 0.0052 - val_mae: 0.0801 - 5s/epoch - 529ms/step\n",
            "Epoch 10/20\n",
            "10/10 - 5s - loss: 0.0059 - mae: 0.0855 - val_loss: 0.0052 - val_mae: 0.0800 - 5s/epoch - 541ms/step\n",
            "Epoch 11/20\n",
            "10/10 - 4s - loss: 0.0059 - mae: 0.0855 - val_loss: 0.0052 - val_mae: 0.0799 - 4s/epoch - 411ms/step\n",
            "Epoch 12/20\n",
            "10/10 - 5s - loss: 0.0059 - mae: 0.0855 - val_loss: 0.0052 - val_mae: 0.0802 - 5s/epoch - 514ms/step\n",
            "Epoch 13/20\n",
            "10/10 - 6s - loss: 0.0059 - mae: 0.0855 - val_loss: 0.0052 - val_mae: 0.0799 - 6s/epoch - 604ms/step\n",
            "Epoch 14/20\n",
            "10/10 - 5s - loss: 0.0059 - mae: 0.0855 - val_loss: 0.0052 - val_mae: 0.0799 - 5s/epoch - 471ms/step\n",
            "Epoch 15/20\n",
            "10/10 - 5s - loss: 0.0059 - mae: 0.0855 - val_loss: 0.0052 - val_mae: 0.0799 - 5s/epoch - 510ms/step\n",
            "Epoch 16/20\n",
            "10/10 - 6s - loss: 0.0059 - mae: 0.0855 - val_loss: 0.0052 - val_mae: 0.0799 - 6s/epoch - 596ms/step\n",
            "Epoch 17/20\n",
            "10/10 - 5s - loss: 0.0059 - mae: 0.0855 - val_loss: 0.0052 - val_mae: 0.0799 - 5s/epoch - 466ms/step\n",
            "Epoch 18/20\n",
            "10/10 - 5s - loss: 0.0059 - mae: 0.0855 - val_loss: 0.0052 - val_mae: 0.0800 - 5s/epoch - 505ms/step\n",
            "Epoch 19/20\n",
            "10/10 - 5s - loss: 0.0059 - mae: 0.0855 - val_loss: 0.0052 - val_mae: 0.0799 - 5s/epoch - 463ms/step\n",
            "Epoch 20/20\n",
            "10/10 - 6s - loss: 0.0059 - mae: 0.0855 - val_loss: 0.0052 - val_mae: 0.0799 - 6s/epoch - 594ms/step\n"
          ]
        }
      ]
    },
    {
      "cell_type": "markdown",
      "source": [
        "### **Plot Model's Performance**"
      ],
      "metadata": {
        "id": "8Hhv-m90ZXAf"
      }
    },
    {
      "cell_type": "code",
      "source": [
        "plt.plot(history.history['mae'], label='mae')\n",
        "plt.plot(history.history['val_mae'], label='val_mae')\n",
        "plt.xlabel('Epoch')\n",
        "plt.ylabel('MAE')\n",
        "plt.legend(loc='lower right')"
      ],
      "metadata": {
        "colab": {
          "base_uri": "https://localhost:8080/",
          "height": 467
        },
        "id": "i36QGI1sVLOl",
        "outputId": "c54f68a9-4286-4fed-aa11-d9bb508670e3"
      },
      "execution_count": 20,
      "outputs": [
        {
          "output_type": "execute_result",
          "data": {
            "text/plain": [
              "<matplotlib.legend.Legend at 0x795a82955d50>"
            ]
          },
          "metadata": {},
          "execution_count": 20
        },
        {
          "output_type": "display_data",
          "data": {
            "text/plain": [
              "<Figure size 640x480 with 1 Axes>"
            ],
            "image/png": "[encoded data removed]"
          },
          "metadata": {}
        }
      ]
    },
    {
      "cell_type": "code",
      "source": [
        "plt.plot(history.history['loss'], label='loss')\n",
        "plt.plot(history.history['val_loss'], label='val_loss')\n",
        "plt.xlabel('Epoch')\n",
        "plt.ylabel('Loss')\n",
        "plt.legend(loc='lower right')"
      ],
      "metadata": {
        "colab": {
          "base_uri": "https://localhost:8080/",
          "height": 467
        },
        "id": "O8i8vgYpVevy",
        "outputId": "c56fc3bf-6bb0-4311-84e1-46d2d5f044a0"
      },
      "execution_count": 15,
      "outputs": [
        {
          "output_type": "execute_result",
          "data": {
            "text/plain": [
              "<matplotlib.legend.Legend at 0x795a92b25a20>"
            ]
          },
          "metadata": {},
          "execution_count": 15
        },
        {
          "output_type": "display_data",
          "data": {
            "text/plain": [
              "<Figure size 640x480 with 1 Axes>"
            ],
            "image/png": "[encoded data removed]"
          },
          "metadata": {}
        }
      ]
    }
  ]
}